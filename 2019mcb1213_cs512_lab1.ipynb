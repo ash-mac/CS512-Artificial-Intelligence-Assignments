{
 "cells": [
  {
   "cell_type": "markdown",
   "metadata": {
    "id": "n1fXRmG192rR"
   },
   "source": [
    "# CS512 (AI) Lab Assignment - 1 \n",
    "\n",
    "### **Due on: 6th Feb 2022 2400 Hrs | Total Marks: 100**\n",
    "\n",
    "**Submission Instructions**:\n",
    "\n",
    "All submission is through google classroom submitting the colab (.ipynb file). In case you face any trouble with the submission, please contact the TAs:\n",
    "\n",
    "*   Armaan Garg, 2019CSZ0002@iitrpr.ac.in\n",
    "*   Shivam Kainth shivam.20csz0006@iitrpr.ac.in\n",
    "\n",
    "Your submission must be your original work. Do not indulge in any kind of plagiarism or copying. Abide by the honour and integrity code to do your assignment.\n",
    "\n",
    "\n",
    "\n",
    "**Penalty Policy**: Late submissions will attract penalties. There will be a penalty of 5% for every 24 Hr delay in the submission. E.g. for 1st 24 Hr delay the penalty will be 5%, for submission with a delay of >24 Hr and < 48 Hr, the penalty will be 10% and so on.\n",
    "\n",
    "All the plots and observations should be added to the colab notebook itself.\n",
    "\n",
    "**Naming Convention**:\n",
    "\n",
    "Name the colab file submission as follows: Name_rollnumber_Labnumber.ipynb\n",
    "E.g. if your name is ABC, roll number is 2019csx1234 and submission is for assignment1 then you should name the colab file as: ABC_2019csx1234_Lab1.ipynb\n"
   ]
  },
  {
   "cell_type": "markdown",
   "metadata": {
    "id": "BhXaj0hb_CWz"
   },
   "source": [
    "The purpose of this assignment is to exercise your basic understanding of intelligent agents and state space search, and to help you apply these concepts.\n",
    "In this assignment, you will be experimenting with different AI search techniques that has been discussed in class. You are provided with a starter code for this. The code consists of several segments, some of which you will need to read and understand to complete the assignment, and some of which you can ignore.\n"
   ]
  },
  {
   "cell_type": "markdown",
   "metadata": {
    "id": "0lKdiao__yxQ"
   },
   "source": [
    "# Problem Statement 1 (60 marks)"
   ]
  },
  {
   "cell_type": "markdown",
   "metadata": {
    "id": "nmwQLEet_1zK"
   },
   "source": [
    "## Save the world from Cersei Lannister (in a maze game setup).\n",
    "\n",
    "Story:\n",
    "Melisandre, also known as red woman, was born in the city of Melony (this city lies in the centre of the maze world), and is known to have supernatural powers. She has been known to be lived for 2000 years and used her sorcery to save the world from evil lannisters. It has been recently known that her immortality comes from the pendant she wears and few wise men say that the owner can only live for a few seconds without the magical pendant.\t\n",
    "But on a very dark day, evil Cersei Lannister stole her pendant and hidden herself into an unknown city of labyrinths. Now it’s our time to save the world and find Cersei as soon as possible and return the pendant to Melisandre and return balance to the world. Thanks to AI this could be done in a very fast and efficient manner. \n",
    "Agent Jon Snow (the AI master) is put up to the task of finding the pendant. Thanks to agent Snow we came to know the location of where cercei is hiding and we also have the maze world map. But it will take ages for a person to reach there but with agent snow’s AI mastership this could be done in mere seconds. \n",
    "_______________________________________\n",
    "\n",
    "The maze world is generated from empty grid and then adding walls of random length to random locations.\n",
    "\n",
    "The goal is to find a path from corner to corner. Possible moves are Up, Down, Left or Right. Distance or length is measured with manhattan distance which is the sum of vertical and horizontal lengths.\n",
    "\n",
    "Algorithms to compare to find a path :\n",
    "\n",
    "\n",
    "*   BFS: breadth first search (10 marks)\n",
    "*   DFS: depth first search  (10 marks)\n",
    "*   UCS: Uniform-Cost Search  (10 marks)\n",
    "*   IDS: Iterative Deepning Search (10 marks)\n",
    "*   A* (A-star) heuristic Search (20 marks)\n",
    "\n",
    "\n",
    "### Write code in Algorithm section below\n",
    "\n",
    "There are two performance metrics:\n",
    "\n",
    "1.   Number of nodes explored\n",
    "2.   Time taken for execution\n",
    "\n",
    "### You need to plot graphs for both the metrics. Also, write your observations by pointing out the key differnces among the algorithms. (Use Graph plots & Observations section below to write your code)"
   ]
  },
  {
   "cell_type": "markdown",
   "metadata": {
    "id": "DfIALoWOV7oV"
   },
   "source": [
    "# The maze"
   ]
  },
  {
   "cell_type": "code",
   "execution_count": 1,
   "metadata": {
    "id": "Mhge1BnnVmp1"
   },
   "outputs": [],
   "source": [
    "import numpy as np\n",
    "\n",
    "\n",
    "def create_maze(size, n_walls, length_walls=0.3):\n",
    "    maze = np.ones((size, size), dtype=bool)\n",
    "\n",
    "    for i in range(n_walls):\n",
    "        row, col = np.random.randint(0, size - 1, 2)\n",
    "\n",
    "        wall = np.random.poisson(length_walls) * np.random.choice([-1, 1])\n",
    "\n",
    "        if np.random.choice([True, False]):\n",
    "            row = make_range(row, wall, size)\n",
    "        else:\n",
    "            col = make_range(col, wall, size)\n",
    "\n",
    "        maze[row, col] = False\n",
    "\n",
    "    maze[0, 0] = True\n",
    "    maze[size - 1, size - 1] = True\n",
    "    return maze\n",
    "\n",
    "\n",
    "def make_range(start, length, m):\n",
    "    d = np.clip(np.array([start + length, start]), 0, m - 1)\n",
    "    return list(range(d.min(), d.max() + 1))\n"
   ]
  },
  {
   "cell_type": "markdown",
   "metadata": {
    "id": "hBCWnzRlWJI_"
   },
   "source": [
    "# Algorithm section"
   ]
  },
  {
   "cell_type": "code",
   "execution_count": 2,
   "metadata": {},
   "outputs": [
    {
     "data": {
      "text/plain": [
       "'\\nWrite a function for each algorithm in this section\\n'"
      ]
     },
     "execution_count": 2,
     "metadata": {},
     "output_type": "execute_result"
    }
   ],
   "source": [
    "\"\"\"\n",
    "Write a function for each algorithm in this section\n",
    "\"\"\""
   ]
  },
  {
   "cell_type": "code",
   "execution_count": 3,
   "metadata": {},
   "outputs": [],
   "source": [
    "from collections import deque"
   ]
  },
  {
   "cell_type": "code",
   "execution_count": 4,
   "metadata": {},
   "outputs": [],
   "source": [
    "def bfs(maze, start, goal):\n",
    "    m = maze.shape[0]\n",
    "    finished = False\n",
    "    path = []\n",
    "    parent = {}\n",
    "    parent[start] = (-1, -1)\n",
    "    explored_nodes = []\n",
    "    explored_status = {}\n",
    "    q = deque()\n",
    "    q.append(start)\n",
    "    explored_status[start] = 0   #Marker 0 indicating the node is pushed in the frontier but no guarantee\n",
    "                                 #if its children will be checked\n",
    "    explored_nodes.append(start) #Explored nodes containing all nodes visited \n",
    "    while True:\n",
    "        if not q:\n",
    "            break;\n",
    "        node = q.popleft()\n",
    "        if (node == goal):\n",
    "            finished = True\n",
    "            break;\n",
    "        explored_status[node] = 1 #Marker 1 indicating the children on the node will definitely be checked\n",
    "        if (node[1]+1<m): #right\n",
    "            new_node = (node[0], node[1] + 1)\n",
    "            if maze[new_node[0]][new_node[1]] == True:\n",
    "                if new_node not in explored_status:\n",
    "                    parent[new_node] = node\n",
    "                    q.append(new_node)\n",
    "                    explored_status[new_node] = 0\n",
    "                    explored_nodes.append(new_node)\n",
    "        if (node[0]+1<m): #down\n",
    "            new_node = (node[0]+1, node[1])\n",
    "            if maze[new_node[0]][new_node[1]] == True:\n",
    "                if new_node not in explored_status:\n",
    "                    parent[new_node] = node\n",
    "                    q.append(new_node)\n",
    "                    explored_status[new_node] = 0                    \n",
    "                    explored_nodes.append(new_node)\n",
    "        if (node[1]-1>=0): #left\n",
    "            new_node = (node[0], node[1] - 1)\n",
    "            if maze[new_node[0]][new_node[1]] == True:\n",
    "                if new_node not in explored_status:\n",
    "                    parent[new_node] = node\n",
    "                    q.append(new_node)\n",
    "                    explored_status[new_node] = 0\n",
    "                    explored_nodes.append(new_node)\n",
    "        if (node[0]-1>=0): #up\n",
    "            new_node = (node[0] - 1, node[1])\n",
    "            if maze[new_node[0]][new_node[1]] == True:\n",
    "                if new_node not in explored_status:\n",
    "                    parent[new_node] = node\n",
    "                    q.append(new_node)\n",
    "                    explored_status[new_node] = 0\n",
    "                    explored_nodes.append(new_node)\n",
    "    if finished:                  \n",
    "        temp_node = goal\n",
    "        while temp_node!=(-1, -1):\n",
    "            path.append(temp_node)\n",
    "            temp_node = parent[temp_node]\n",
    "    path.reverse()\n",
    "    return finished, explored_nodes, path"
   ]
  },
  {
   "cell_type": "code",
   "execution_count": 5,
   "metadata": {},
   "outputs": [],
   "source": [
    "def dfs(maze, start, goal):\n",
    "    m = maze.shape[0]\n",
    "    finished = False\n",
    "    path = []\n",
    "    parent = {}\n",
    "    explored_nodes = []\n",
    "    explored_status = {}\n",
    "    stack = deque()\n",
    "    stack.append(start)\n",
    "    explored_status[start] = 0\n",
    "    explored_nodes.append(start)\n",
    "    parent[start] = None\n",
    "    while True:\n",
    "        if not stack:\n",
    "            break\n",
    "        node = stack.pop()\n",
    "        if(node == goal):\n",
    "            finished = True\n",
    "            break\n",
    "        explored_status[node] = 1\n",
    "        #right\n",
    "        if ((node[1] + 1) < m):\n",
    "            new_node = (node[0], node[1] + 1)\n",
    "            if (maze[new_node[0]][new_node[1]]):\n",
    "                if (new_node not in explored_status):\n",
    "                    stack.append(new_node)\n",
    "                    parent[new_node] = node\n",
    "                    explored_status[new_node] = 0\n",
    "                    explored_nodes.append(new_node)\n",
    "        #down\n",
    "        if ((node[0] + 1) < m):\n",
    "            new_node = (node[0] + 1, node[1])\n",
    "            if (maze[new_node[0]][new_node[1]]):\n",
    "                if (new_node not in explored_status):\n",
    "                    stack.append(new_node)\n",
    "                    parent[new_node] = node\n",
    "                    explored_status[new_node] = 0                    \n",
    "                    explored_nodes.append(new_node)\n",
    "        #left\n",
    "        if ((node[1] - 1) >= 0):\n",
    "            new_node = (node[0], node[1] - 1)\n",
    "            if (maze[new_node[0]][new_node[1]]):\n",
    "                if (new_node not in explored_status):\n",
    "                    stack.append(new_node)\n",
    "                    parent[new_node] = node\n",
    "                    explored_status[new_node] = 0\n",
    "                    explored_nodes.append(new_node)\n",
    "        #up\n",
    "        if ((node[0] - 1) >=0):\n",
    "            new_node = (node[0] - 1, node[1])\n",
    "            if (maze[new_node[0]][new_node[1]]):\n",
    "                if (new_node not in explored_status):\n",
    "                    stack.append(new_node)\n",
    "                    parent[new_node] = node\n",
    "                    explored_status[new_node] = 0\n",
    "                    explored_nodes.append(new_node)\n",
    "    if(finished):\n",
    "        temp_node = goal\n",
    "        while temp_node:\n",
    "            path.append(temp_node)\n",
    "            temp_node = parent[temp_node]\n",
    "        path.reverse()\n",
    "    return finished, explored_nodes, path"
   ]
  },
  {
   "cell_type": "code",
   "execution_count": 6,
   "metadata": {},
   "outputs": [],
   "source": [
    "from queue import PriorityQueue"
   ]
  },
  {
   "cell_type": "code",
   "execution_count": 7,
   "metadata": {},
   "outputs": [],
   "source": [
    "# cost of all right, left, up, down actions is 1\n",
    "def ucs(maze, start, goal):\n",
    "    m = maze.shape[0]\n",
    "    finished = False\n",
    "    path = []\n",
    "    parent = {}\n",
    "    explored_status = {}\n",
    "    explored_nodes = []\n",
    "    q = PriorityQueue()\n",
    "    q.put((0, start))\n",
    "    parent[start] = (-1, -1)\n",
    "    explored_status[start] = 0\n",
    "    explored_nodes.append(start)\n",
    "    while True:\n",
    "        if q.empty():\n",
    "            break;\n",
    "        node_info = q.get()\n",
    "        node = node_info[1]\n",
    "        node_cost = node_info[0]\n",
    "        if node == goal:\n",
    "            finished = True\n",
    "            break\n",
    "        explored_status[node] = 1\n",
    "        if (node[1]+1<m): #right\n",
    "            new_node = (node[0], node[1] + 1)\n",
    "            if maze[new_node[0]][new_node[1]] == True:\n",
    "                if new_node not in explored_status:\n",
    "                    parent[new_node] = node\n",
    "                    q.put((node_cost + 1, new_node))\n",
    "                    explored_status[new_node] = 0\n",
    "                    explored_nodes.append(new_node)\n",
    "        if (node[0]+1<m): #down\n",
    "            new_node = (node[0]+1, node[1])\n",
    "            if maze[new_node[0]][new_node[1]] == True:\n",
    "                if new_node not in explored_status:\n",
    "                    parent[new_node] = node\n",
    "                    q.put((node_cost + 1, new_node))\n",
    "                    explored_status[new_node] = 0\n",
    "                    explored_nodes.append(new_node)\n",
    "        if (node[1]-1>=0): #left\n",
    "            new_node = (node[0], node[1] - 1)\n",
    "            if maze[new_node[0]][new_node[1]] == True:\n",
    "                if new_node not in explored_status:\n",
    "                    parent[new_node] = node\n",
    "                    q.put((node_cost + 1, new_node))\n",
    "                    explored_status[new_node] = 0\n",
    "                    explored_nodes.append(new_node)\n",
    "        if (node[0]-1>=0): #up\n",
    "            new_node = (node[0] - 1, node[1])\n",
    "            if maze[new_node[0]][new_node[1]] == True:\n",
    "                if new_node not in explored_status:\n",
    "                    parent[new_node] = node\n",
    "                    q.put((node_cost + 1, new_node))\n",
    "                    explored_status[new_node] = 0\n",
    "                    explored_nodes.append(new_node)\n",
    "    if finished:                  \n",
    "        temp_node = goal\n",
    "        while temp_node!=(-1, -1):\n",
    "            path.append(temp_node)\n",
    "            temp_node = parent[temp_node]\n",
    "    path.reverse()\n",
    "    return finished, explored_nodes, path"
   ]
  },
  {
   "cell_type": "code",
   "execution_count": 8,
   "metadata": {},
   "outputs": [],
   "source": [
    "def ids(maze, start, goal):\n",
    "    m = maze.shape[0]\n",
    "    finished = False\n",
    "    net_explored = set()\n",
    "    explored_status = {}\n",
    "    path = []\n",
    "    parent = {}\n",
    "    stack = deque()\n",
    "    threshold = 0\n",
    "    depth = {}\n",
    "    while finished == False:\n",
    "        explored_status.clear()\n",
    "        parent.clear()\n",
    "        stack.clear()\n",
    "        depth.clear()\n",
    "        stack.append(start)\n",
    "        depth[start] = 0\n",
    "        parent[start] =None\n",
    "        explored_status[start] = 0\n",
    "        net_explored.add(start)\n",
    "        if threshold:\n",
    "            threshold = threshold * 2\n",
    "        else:\n",
    "            threshold = threshold + 1\n",
    "        max_explored_depth = 0\n",
    "        while True:\n",
    "            if not stack:\n",
    "                break;\n",
    "            node = stack.pop()\n",
    "            if (node == goal):\n",
    "                finished = True\n",
    "                break\n",
    "            explored_status[node] = 1\n",
    "            new_depth = depth[node] + 1\n",
    "            if (new_depth<=threshold):\n",
    "                #right\n",
    "                if ((node[1] + 1)<m):\n",
    "                    new_node = (node[0], node[1] + 1)\n",
    "                    if (maze[new_node[0]][new_node[1]]):\n",
    "                        if (new_node not in explored_status):\n",
    "                            depth[new_node] = new_depth\n",
    "                            parent[new_node] = node\n",
    "                            explored_status[new_node] = 0\n",
    "                            net_explored.add(new_node)\n",
    "                            stack.append(new_node)\n",
    "                            max_explored_depth = max(max_explored_depth, new_depth)\n",
    "                #down\n",
    "                if ((node[0] + 1) < m):\n",
    "                    new_node = (node[0] + 1, node[1])\n",
    "                    if (maze[new_node[0]][new_node[1]]):\n",
    "                        if (new_node not in explored_status):\n",
    "                            depth[new_node] = new_depth\n",
    "                            parent[new_node] = node\n",
    "                            explored_status[new_node] = 0\n",
    "                            net_explored.add(new_node)\n",
    "                            stack.append(new_node)\n",
    "                            max_explored_depth = max(max_explored_depth, new_depth)                            \n",
    "                #left\n",
    "                if ((node[1] - 1)>=0):\n",
    "                    new_node = (node[0], node[1] - 1)\n",
    "                    if (maze[new_node[0]][new_node[1]]):\n",
    "                        if (new_node not in explored_status):\n",
    "                            depth[new_node] = new_depth\n",
    "                            parent[new_node] = node\n",
    "                            explored_status[new_node] = 0\n",
    "                            net_explored.add(new_node)\n",
    "                            stack.append(new_node)\n",
    "                            max_explored_depth = max(max_explored_depth, new_depth)\n",
    "                #up\n",
    "                if ((node[0] - 1) >= 0):\n",
    "                    new_node = (node[0] - 1, node[1])\n",
    "                    if (maze[new_node[0]][new_node[1]]):\n",
    "                        if (new_node not in explored_status):\n",
    "                            depth[new_node] = new_depth\n",
    "                            parent[new_node] = node\n",
    "                            explored_status[new_node] = 0\n",
    "                            net_explored.add(new_node)\n",
    "                            stack.append(new_node)\n",
    "                            max_explored_depth = max(max_explored_depth, new_depth)\n",
    "        if ((finished == False) and max_explored_depth < threshold):\n",
    "            break\n",
    "    if (finished):\n",
    "        temp_node = goal\n",
    "        while temp_node:\n",
    "            path.append(temp_node)\n",
    "            temp_node = parent[temp_node]\n",
    "        path.reverse()\n",
    "    return finished, list(net_explored), path"
   ]
  },
  {
   "cell_type": "code",
   "execution_count": 9,
   "metadata": {},
   "outputs": [],
   "source": [
    "def manhattan_heuristic(SIZE):\n",
    "    h = lambda node, goal: abs(node[0] - goal[0]) + abs(node[1] - goal[1])\n",
    "    return h"
   ]
  },
  {
   "cell_type": "code",
   "execution_count": 10,
   "metadata": {},
   "outputs": [],
   "source": [
    "def astar(maze, start, goal, heuristic):\n",
    "    m = maze.shape[0]\n",
    "    finished = False\n",
    "    explored_status = {}\n",
    "    explored_nodes = []\n",
    "    parent = {}\n",
    "    path = []\n",
    "    q = PriorityQueue()\n",
    "    q.put((0 + heuristic(start, goal),start))\n",
    "    explored_status[start] = 0\n",
    "    explored_nodes.append(start)\n",
    "    parent[start] = (-1, -1)\n",
    "    while True:\n",
    "        if q.empty():\n",
    "            break\n",
    "        node_info = q.get()\n",
    "        node = node_info[1]\n",
    "        gn_hn = node_info[0] #g(n) + heuristic(n)\n",
    "        gn = gn_hn - heuristic(node, goal) #g(n) is cost of reaching till here\n",
    "        if(node == goal):\n",
    "            finished = True\n",
    "            break\n",
    "        explored_status[node] = 1\n",
    "        if (node[1]+1<m): #right\n",
    "            new_node = (node[0], node[1] + 1)\n",
    "            if maze[new_node[0]][new_node[1]] == True:\n",
    "                if new_node not in explored_status:\n",
    "                    parent[new_node] = node\n",
    "                    q.put((gn + 1 + heuristic(new_node, goal), new_node))\n",
    "                    explored_status[new_node] = 0\n",
    "                    explored_nodes.append(new_node)\n",
    "        if (node[0]+1<m): #down\n",
    "            new_node = (node[0]+1, node[1])\n",
    "            if maze[new_node[0]][new_node[1]] == True:\n",
    "                if new_node not in explored_status:\n",
    "                    parent[new_node] = node\n",
    "                    q.put((gn + 1 + heuristic(new_node, goal), new_node))\n",
    "                    explored_status[new_node] = 0\n",
    "                    explored_nodes.append(new_node)\n",
    "        if (node[1]-1>=0): #left\n",
    "            new_node = (node[0], node[1] - 1)\n",
    "            if maze[new_node[0]][new_node[1]] == True:\n",
    "                if new_node not in explored_status:\n",
    "                    parent[new_node] = node\n",
    "                    q.put((gn + 1 + heuristic(new_node, goal), new_node))\n",
    "                    explored_status[new_node] = 0\n",
    "                    explored_nodes.append(new_node)\n",
    "        if (node[0]-1>=0): #up\n",
    "            new_node = (node[0] - 1, node[1])\n",
    "            if maze[new_node[0]][new_node[1]] == True:\n",
    "                if new_node not in explored_status:\n",
    "                    parent[new_node] = node\n",
    "                    q.put((gn + 1 + heuristic(new_node, goal), new_node))\n",
    "                    explored_status[new_node] = 0\n",
    "                    explored_nodes.append(new_node)\n",
    "    if finished:                  \n",
    "        temp_node = goal\n",
    "        while temp_node!=(-1, -1):\n",
    "            path.append(temp_node)\n",
    "            temp_node = parent[temp_node]\n",
    "    path.reverse()\n",
    "    return finished, explored_nodes, path        "
   ]
  },
  {
   "cell_type": "markdown",
   "metadata": {
    "id": "ebeRsG8jWMg8"
   },
   "source": [
    "# Execution section"
   ]
  },
  {
   "cell_type": "code",
   "execution_count": 11,
   "metadata": {
    "id": "itQRrX6yEHvG"
   },
   "outputs": [
    {
     "name": "stderr",
     "output_type": "stream",
     "text": [
      "100%|████████████████████████████████████████████████████████████████████████████████| 100/100 [00:17<00:00,  5.59it/s]"
     ]
    },
    {
     "name": "stdout",
     "output_type": "stream",
     "text": [
      "| finished   | algo   |    seconds |   n_explored |   length_path |   count |\n",
      "|:-----------|:-------|-----------:|-------------:|--------------:|--------:|\n",
      "| False      | A-star | 0.029265   |      2637.94 |        nan    |      35 |\n",
      "| False      | BFS    | 0.0136581  |      2637.94 |        nan    |      35 |\n",
      "| False      | DFS    | 0.00552052 |      2637.94 |        nan    |      35 |\n",
      "| False      | IDS    | 0.0195284  |      2637.94 |        nan    |      35 |\n",
      "| False      | UCS    | 0.0268908  |      2637.94 |        nan    |      35 |\n",
      "| True       | A-star | 0.0344251  |      3206.8  |        213.4  |      65 |\n",
      "| True       | BFS    | 0.03726    |      7186.85 |        213.4  |      65 |\n",
      "| True       | DFS    | 0.0108512  |      6062.58 |       1716.85 |      65 |\n",
      "| True       | IDS    | 0.0409248  |      6970.65 |       1564.78 |      65 |\n",
      "| True       | UCS    | 0.0725706  |      7193.89 |        213.4  |      65 |\n"
     ]
    },
    {
     "name": "stderr",
     "output_type": "stream",
     "text": [
      "\n",
      "C:\\anaconda\\lib\\site-packages\\ipykernel_launcher.py:75: FutureWarning: Indexing with multiple keys (implicitly converted to a tuple of keys) will be deprecated, use a list instead.\n"
     ]
    }
   ],
   "source": [
    "from collections import namedtuple #Like the dictionary type objects, it contains keys and that are mapped \n",
    "#to some values. In this case we can access the elements using keys and indexes.\n",
    "\n",
    "from functools import partial # You can create partial functions in python by using the partial function from \n",
    "#the functools library. Partial functions allow one to derive a function with x parameters to a function \n",
    "#with fewer parameters and fixed values set for the more limited function.\n",
    "\n",
    "from timeit import default_timer as timer\n",
    "import matplotlib.animation as ani\n",
    "import matplotlib.pyplot as plt\n",
    "import numpy as np\n",
    "import pandas as pd\n",
    "\n",
    "import tabulate #Tabulate is an open-source python package/module which is used to print \n",
    "#tabular data in nicely formatted tables\n",
    "\n",
    "import tqdm\n",
    "import os\n",
    "\n",
    "np.random.seed(0)\n",
    "\n",
    "SIZE = 100\n",
    "START = (0, 0) \n",
    "GOAL = (SIZE - 1, SIZE - 1)\n",
    "OBSTACLE_COUNT = SIZE ** 2 // 30\n",
    "OBSTACLE_SIZE = 7\n",
    "\n",
    "ALGOS = [\n",
    "    (\"DFS\", partial(dfs, start=START, goal=GOAL)),\n",
    "    (\"BFS\", partial(bfs, start=START, goal=GOAL)),\n",
    "    (\"UCS\", partial(ucs, start=START, goal=GOAL)),\n",
    "    (\"IDS\", partial(ids, start=START, goal=GOAL)),\n",
    "    (\n",
    "       \"A-star\",\n",
    "       partial(astar, start=START, goal=GOAL, heuristic=manhattan_heuristic(SIZE)),\n",
    "    )\n",
    "]\n",
    "\n",
    "Result = namedtuple(\n",
    "    \"Result\", [\"round\", \"finished\", \"n_explored\", \"length_path\", \"seconds\", \"algo\"]\n",
    ")\n",
    "\n",
    "\n",
    "def simulate(n, max_good_mazes=float(\"inf\")):\n",
    "    results = []\n",
    "    good_mazes = []\n",
    "    for i in tqdm.tqdm(range(n), mininterval=1):\n",
    "        maze = create_maze(SIZE, OBSTACLE_COUNT, OBSTACLE_SIZE)\n",
    "        for algo_name, algo in ALGOS:\n",
    "            time_start = timer()\n",
    "            finished, explored_nodes, path = algo(maze)\n",
    "            time_end = timer()\n",
    "            r = Result(\n",
    "                round=i,\n",
    "                finished=finished,\n",
    "                n_explored=len(explored_nodes),\n",
    "                length_path=None if not finished else len(path),\n",
    "                seconds=time_end - time_start,\n",
    "                algo=algo_name,\n",
    "            )\n",
    "            results.append(r)\n",
    "            if finished and algo_name == ALGOS[0][0]:\n",
    "                good_mazes.append(maze)\n",
    "                if len(good_mazes) >= max_good_mazes:\n",
    "                    break\n",
    "\n",
    "    results_df = pd.DataFrame(results)\n",
    "    return results_df, good_mazes\n",
    "\n",
    "result_df, good_mazes = simulate(100)\n",
    "\n",
    "\"\"\" for reference to print the results in a table format\"\"\"\n",
    "\n",
    "result_agg = result_df.groupby([\"finished\", \"algo\"])[\n",
    "    \"seconds\", \"n_explored\", \"length_path\"\n",
    "].mean()\n",
    "\n",
    "result_agg[\"count\"] = result_df.groupby([\"finished\", \"algo\"]).size()\n",
    "result_agg = result_agg.reset_index()\n",
    "\n",
    "print(tabulate.tabulate(result_agg.values, result_agg.columns, tablefmt=\"pipe\"))\n",
    "\n"
   ]
  },
  {
   "cell_type": "code",
   "execution_count": 12,
   "metadata": {},
   "outputs": [],
   "source": [
    "\"\"\" graph plot code and observations\"\"\"\n",
    "import matplotlib.pyplot as plt\n",
    "import seaborn as sns\n",
    "algo_list=result_df.groupby([\"algo\"])\n",
    "time_taken=result_df.groupby([\"algo\"])[\"seconds\"]"
   ]
  },
  {
   "cell_type": "code",
   "execution_count": 13,
   "metadata": {},
   "outputs": [
    {
     "data": {
      "text/plain": [
       "['A-star', 'BFS', 'DFS', 'IDS', 'UCS']"
      ]
     },
     "execution_count": 13,
     "metadata": {},
     "output_type": "execute_result"
    }
   ],
   "source": [
    "algorithm_names = [key for key, item in algo_list]\n",
    "algorithm_names"
   ]
  },
  {
   "cell_type": "code",
   "execution_count": 14,
   "metadata": {},
   "outputs": [],
   "source": [
    "time_taken_total = [item.mean() for key, item in time_taken]\n",
    "\n",
    "time_taken_notfinished = []\n",
    "time_taken_finished = []\n",
    "\n",
    "for key, value in result_df.groupby(['algo', 'finished']):\n",
    "    if key[1] == False:\n",
    "        time_taken_notfinished.append(value['seconds'].mean())\n",
    "    else:\n",
    "        time_taken_finished.append(value['seconds'].mean())"
   ]
  },
  {
   "cell_type": "code",
   "execution_count": 15,
   "metadata": {},
   "outputs": [
    {
     "data": {
      "image/png": "[encoded data removed]",
      "text/plain": [
       "<Figure size 360x360 with 1 Axes>"
      ]
     },
     "metadata": {
      "needs_background": "light"
     },
     "output_type": "display_data"
    }
   ],
   "source": [
    "fig = plt.figure(figsize = (5, 5))\n",
    "ax = sns.barplot(x=algorithm_names,y=time_taken_total)\n",
    "ax.set_title(\"Bar Graph of Average Time in Seconds for each algorithm over all cases, irrespective of goal reached or not\")\n",
    "ax.set_xlabel(\"Algorithm Name\")\n",
    "ax.set_ylabel(\"Time taken in seconds\")\n",
    "plt.show()"
   ]
  },
  {
   "cell_type": "code",
   "execution_count": 16,
   "metadata": {},
   "outputs": [
    {
     "data": {
      "image/png": "[encoded data removed]",
      "text/plain": [
       "<Figure size 432x288 with 1 Axes>"
      ]
     },
     "metadata": {
      "needs_background": "light"
     },
     "output_type": "display_data"
    }
   ],
   "source": [
    "ax = sns.barplot(x=algorithm_names,y=time_taken_notfinished)\n",
    "ax.set_title(\"Bar Graph for algorithms v/s time when There was no Path to Goal Node\")\n",
    "ax.set_xlabel(\"Algorithm\")\n",
    "ax.set_ylabel(\"Average time in seconds\")\n",
    "plt.show()"
   ]
  },
  {
   "cell_type": "code",
   "execution_count": 17,
   "metadata": {},
   "outputs": [
    {
     "data": {
      "image/png": "[encoded data removed]",
      "text/plain": [
       "<Figure size 432x288 with 1 Axes>"
      ]
     },
     "metadata": {
      "needs_background": "light"
     },
     "output_type": "display_data"
    }
   ],
   "source": [
    "ax = sns.barplot(x=algorithm_names,y=time_taken_finished)\n",
    "ax.set_title(\"Bar Plot for algorithms v/s time when There was atleast one Path to Goal Node\")\n",
    "ax.set_xlabel(\"Algorithm\")\n",
    "ax.set_ylabel(\"Average time in seconds\")\n",
    "plt.show()"
   ]
  },
  {
   "cell_type": "markdown",
   "metadata": {},
   "source": [
    "## Observations from the Time Taken vs Algorithm Bar Plots\n",
    "- It was observed DFS took the least time, in each case, whether goal was reached or not\n",
    "    - This makes sense, as in DFS there is no intelligent decision making to find the shortest path\n",
    "    - The frontier in DFS is a simple LIFO stack which doesn't give special preference to any direction\n",
    "- **Here I have modified the Iterative Deepening Search by changing the threshold to threshold*2 after 1 st iteration, in each iteration**, when it wasn't done, **IDS took the most time about 2 order of magnitudes greater**.\n",
    "- IDS will take most time as it is increasing the depth one by one and then starting from scratch, i.e. revisiting the already encountered nodes. \n",
    "- UCS and BFS, in the current setting perform search in a similar way, as all edge costs here are given to be 1. But UCS takes more time as it has an **overhead** of the **priority queue** it is maintaining.\n",
    "- Hence UCS takes most time when goal is reached\n",
    "-  A-star too maintains a priority queue. It is taking **most time when goal is not reachable**\n",
    "- Though when goal is reachable, the intelligent function in A-star for deciding the priority ie **gn + hn** causes it to have lesser running time than UCS. As **A-star's** search is narrowed down because of the heuristic incorporated."
   ]
  },
  {
   "cell_type": "code",
   "execution_count": 18,
   "metadata": {},
   "outputs": [],
   "source": [
    "num_explored = result_df.groupby([\"algo\"])[\"n_explored\"]\n",
    "num_explored_total = [item.mean() for key, item in num_explored]\n",
    "\n",
    "num_explored_notfinished = []\n",
    "num_explored_finished = []\n",
    "\n",
    "for key, value in result_df.groupby(['algo', 'finished']):\n",
    "    if key[1] == False:\n",
    "        num_explored_notfinished.append(value['n_explored'].mean())\n",
    "    else:\n",
    "        num_explored_finished.append(value['n_explored'].mean())"
   ]
  },
  {
   "cell_type": "code",
   "execution_count": 19,
   "metadata": {},
   "outputs": [
    {
     "data": {
      "image/png": "[encoded data removed]",
      "text/plain": [
       "<Figure size 1080x360 with 3 Axes>"
      ]
     },
     "metadata": {
      "needs_background": "light"
     },
     "output_type": "display_data"
    }
   ],
   "source": [
    "fig = plt.figure(figsize = (15, 5))\n",
    "fig.subplots_adjust(hspace = 0.3, wspace = 0.3)\n",
    "ax = fig.add_subplot(1, 3, 1)\n",
    "ax = sns.barplot(x=algorithm_names,y=num_explored_total)\n",
    "ax.set_title(\"Irrespective of goal reached or not\")\n",
    "ax.set_ylabel(\"Average Explored Nodes\")\n",
    "ax = fig.add_subplot(1, 3, 2)\n",
    "ax = sns.barplot(x=algorithm_names,y=num_explored_notfinished)\n",
    "ax.set_title(\"Goal not reachable\")\n",
    "ax.set_ylabel(\"Average Explored Nodes\")\n",
    "ax = fig.add_subplot(1, 3, 3)\n",
    "ax = sns.barplot(x=algorithm_names,y=num_explored_finished)\n",
    "ax.set_title(\"Goal Reached\")\n",
    "ax.set_ylabel(\"Average Explored Nodes\")\n",
    "plt.show()"
   ]
  },
  {
   "cell_type": "markdown",
   "metadata": {},
   "source": [
    "## Observations from number of explored nodes vs algorithm\n",
    "- *When Goal is not reachable*\n",
    "    - All algorithms have the same number of explored nodes.\n",
    "    - This occurs because whatever decision an algorithm takes to give priority to specific nodes it has to explore all the possibilities before finally stopping\n",
    "- *When Goal was reachable*\n",
    "    - A- star explored the least number of nodes among all, which can be attributed to its intelligent priority queue\n",
    "    - BFS and UCS together explored almost same number of nodes. The slight difference there is because of different data structure used. **BFS uses a FIFO queue whereas UCS uses a priority queue wihch has a heap implementation and doesn't guarantee stableness (order in which the elements were inserted)**\n",
    "    - IDS however explores less **unique nodes** than both BFS and DFS. This is because the threshold continually restricts the branches of the IDS search tree. If the **threshold had been incremented by 1 then the situation could have been different(IDS exploring more nodes)**\n",
    "    - DFS explores lesser nodes than all 3 BFS, IDS and UCS."
   ]
  },
  {
   "cell_type": "markdown",
   "metadata": {},
   "source": [
    "## Some Extra Observations:\n",
    "- The path length in DFS was the most\n",
    "- BFS, UCS, and A-star all had the optimal path lengths equal to each other\n",
    "- **IDS had path length shorter than DFS because of the threshold restricting its spread**, it would have been further lower if we had used threshold = threshold + 1"
   ]
  },
  {
   "cell_type": "code",
   "execution_count": 20,
   "metadata": {},
   "outputs": [
    {
     "data": {
      "image/png": "[encoded data removed]",
      "text/plain": [
       "<Figure size 432x288 with 1 Axes>"
      ]
     },
     "metadata": {
      "needs_background": "light"
     },
     "output_type": "display_data"
    }
   ],
   "source": [
    "sns.scatterplot(x = num_explored_finished,y = time_taken_finished, hue = algorithm_names)\n",
    "plt.show()"
   ]
  },
  {
   "cell_type": "markdown",
   "metadata": {
    "id": "YnkNtQFDc410"
   },
   "source": [
    "# Graph plots & Observations\n",
    "\n",
    "---\n",
    "\n",
    "Plot graphs related to the various parameters of algorithms for the various test cases given in the next section. \n",
    "\n",
    "1.   Plot one graph, which compares the number of nodes explored by every algorithm, while solving the problem.\n",
    "\n",
    "2.  Plot another graph, comparing the total time taken by each algorithm to complete the execution. \n",
    "\n",
    "## Libraries for reference\n",
    "https://seaborn.pydata.org/\n",
    "\n",
    "https://matplotlib.org/stable/api/_as_gen/matplotlib.pyplot.html\n",
    "\n",
    "https://matplotlib.org/stable/tutorials/introductory/pyplot.html\n",
    "\n",
    "\n",
    " \n"
   ]
  },
  {
   "cell_type": "code",
   "execution_count": 21,
   "metadata": {},
   "outputs": [],
   "source": [
    "def plot_graph(result_df, which):\n",
    "    algo_list=result_df.groupby([\"algo\"])\n",
    "    time_taken=result_df.groupby([\"algo\"])[\"seconds\"]\n",
    "    algorithm_names = [key for key, item in algo_list]\n",
    "    if which == 'time':\n",
    "        time_taken_total = [item.mean() for key, item in time_taken]\n",
    "\n",
    "        time_taken_notfinished = []\n",
    "        time_taken_finished = []\n",
    "\n",
    "        for key, value in result_df.groupby(['algo', 'finished']):\n",
    "            if key[1] == False:\n",
    "                time_taken_notfinished.append(value['seconds'].mean())\n",
    "            else:\n",
    "                time_taken_finished.append(value['seconds'].mean()) \n",
    "        fig = plt.figure(figsize = (15, 5))\n",
    "        fig.subplots_adjust(hspace = 0.3, wspace = 0.3)\n",
    "        ax = fig.add_subplot(1, 3, 1)\n",
    "        ax = sns.barplot(x=algorithm_names,y=time_taken_total)\n",
    "        ax.set_title(\"Irrespective of goal reached or not\")\n",
    "        ax.set_ylabel(\"Average Time Taken in s\")\n",
    "        ax = fig.add_subplot(1, 3, 2)\n",
    "        ax = sns.barplot(x=algorithm_names,y=time_taken_notfinished)\n",
    "        ax.set_title(\"Goal not reachable\")\n",
    "        ax.set_ylabel(\"Average Time Taken in s\")\n",
    "        ax = fig.add_subplot(1, 3, 3)\n",
    "        ax = sns.barplot(x=algorithm_names,y=time_taken_finished)\n",
    "        ax.set_title(\"Goal Reached\")\n",
    "        ax.set_ylabel(\"Average Time Taken in s\")\n",
    "        plt.show()                            \n",
    "    else:\n",
    "        num_explored = result_df.groupby([\"algo\"])[\"n_explored\"]\n",
    "        num_explored_total = [item.mean() for key, item in num_explored]\n",
    "\n",
    "        num_explored_notfinished = []\n",
    "        num_explored_finished = []\n",
    "\n",
    "        for key, value in result_df.groupby(['algo', 'finished']):\n",
    "            if key[1] == False:\n",
    "                num_explored_notfinished.append(value['n_explored'].mean())\n",
    "            else:\n",
    "                num_explored_finished.append(value['n_explored'].mean())  \n",
    "        fig = plt.figure(figsize = (15, 5))\n",
    "        fig.subplots_adjust(hspace = 0.3, wspace = 0.3)\n",
    "        ax = fig.add_subplot(1, 3, 1)\n",
    "        ax = sns.barplot(x=algorithm_names,y=num_explored_total)\n",
    "        ax.set_title(\"Irrespective of goal reached or not\")\n",
    "        ax.set_ylabel(\"Average Explored Nodes\")\n",
    "        ax = fig.add_subplot(1, 3, 2)\n",
    "        ax = sns.barplot(x=algorithm_names,y=num_explored_notfinished)\n",
    "        ax.set_title(\"Goal not reachable\")\n",
    "        ax.set_ylabel(\"Average Explored Nodes\")\n",
    "        ax = fig.add_subplot(1, 3, 3)\n",
    "        ax = sns.barplot(x=algorithm_names,y=num_explored_finished)\n",
    "        ax.set_title(\"Goal Reached\")\n",
    "        ax.set_ylabel(\"Average Explored Nodes\")\n",
    "        plt.show()    "
   ]
  },
  {
   "cell_type": "markdown",
   "metadata": {
    "id": "EaSkBfP4LJbh"
   },
   "source": [
    "### Test Case 1:\n"
   ]
  },
  {
   "cell_type": "code",
   "execution_count": 22,
   "metadata": {
    "id": "_ZlgQFqvLHMJ"
   },
   "outputs": [
    {
     "name": "stderr",
     "output_type": "stream",
     "text": [
      "100%|████████████████████████████████████████████████████████████████████████████████| 100/100 [00:15<00:00,  6.27it/s]"
     ]
    },
    {
     "name": "stdout",
     "output_type": "stream",
     "text": [
      "| finished   | algo   |    seconds |   n_explored |   length_path |   count |\n",
      "|:-----------|:-------|-----------:|-------------:|--------------:|--------:|\n",
      "| False      | A-star | 0.029265   |      2637.94 |        nan    |      40 |\n",
      "| False      | BFS    | 0.0136581  |      2637.94 |        nan    |      40 |\n",
      "| False      | DFS    | 0.00552052 |      2637.94 |        nan    |      40 |\n",
      "| False      | IDS    | 0.0195284  |      2637.94 |        nan    |      40 |\n",
      "| False      | UCS    | 0.0268908  |      2637.94 |        nan    |      40 |\n",
      "| True       | A-star | 0.0344251  |      3206.8  |        213.4  |      60 |\n",
      "| True       | BFS    | 0.03726    |      7186.85 |        213.4  |      60 |\n",
      "| True       | DFS    | 0.0108512  |      6062.58 |       1716.85 |      60 |\n",
      "| True       | IDS    | 0.0409248  |      6970.65 |       1564.78 |      60 |\n",
      "| True       | UCS    | 0.0725706  |      7193.89 |        213.4  |      60 |\n"
     ]
    },
    {
     "name": "stderr",
     "output_type": "stream",
     "text": [
      "\n",
      "C:\\anaconda\\lib\\site-packages\\ipykernel_launcher.py:5: FutureWarning: Indexing with multiple keys (implicitly converted to a tuple of keys) will be deprecated, use a list instead.\n",
      "  \"\"\"\n"
     ]
    }
   ],
   "source": [
    "START = (1, 1) \n",
    "GOAL = (SIZE - 1, SIZE - 1)\n",
    "result_df1, good_mazes = simulate(100)\n",
    "result_agg = result_df.groupby([\"finished\", \"algo\"])[\n",
    "    \"seconds\", \"n_explored\", \"length_path\"\n",
    "].mean()\n",
    "\n",
    "result_agg[\"count\"] = result_df1.groupby([\"finished\", \"algo\"]).size()\n",
    "result_agg = result_agg.reset_index()\n",
    "\n",
    "print(tabulate.tabulate(result_agg.values, result_agg.columns, tablefmt=\"pipe\"))"
   ]
  },
  {
   "cell_type": "code",
   "execution_count": 23,
   "metadata": {},
   "outputs": [
    {
     "data": {
      "image/png": "[encoded data removed]",
      "text/plain": [
       "<Figure size 1080x360 with 3 Axes>"
      ]
     },
     "metadata": {
      "needs_background": "light"
     },
     "output_type": "display_data"
    }
   ],
   "source": [
    "plot_graph(result_df1, 'time')"
   ]
  },
  {
   "cell_type": "code",
   "execution_count": 24,
   "metadata": {},
   "outputs": [
    {
     "data": {
      "image/png": "[encoded data removed]",
      "text/plain": [
       "<Figure size 1080x360 with 3 Axes>"
      ]
     },
     "metadata": {
      "needs_background": "light"
     },
     "output_type": "display_data"
    }
   ],
   "source": [
    "plot_graph(result_df1, 'explored_nodes')"
   ]
  },
  {
   "cell_type": "markdown",
   "metadata": {
    "id": "mpkj2e58TUaN"
   },
   "source": [
    "### Test Case 2"
   ]
  },
  {
   "cell_type": "code",
   "execution_count": 25,
   "metadata": {
    "id": "my1GnnpjTUxl"
   },
   "outputs": [
    {
     "name": "stderr",
     "output_type": "stream",
     "text": [
      "100%|████████████████████████████████████████████████████████████████████████████████| 100/100 [00:15<00:00,  6.44it/s]"
     ]
    },
    {
     "name": "stdout",
     "output_type": "stream",
     "text": [
      "| finished   | algo   |    seconds |   n_explored |   length_path |   count |\n",
      "|:-----------|:-------|-----------:|-------------:|--------------:|--------:|\n",
      "| False      | A-star | 0.0264494  |      2553.93 |        nan    |      45 |\n",
      "| False      | BFS    | 0.0127757  |      2553.93 |        nan    |      45 |\n",
      "| False      | DFS    | 0.00497398 |      2553.93 |        nan    |      45 |\n",
      "| False      | IDS    | 0.0182941  |      2553.93 |        nan    |      45 |\n",
      "| False      | UCS    | 0.0243     |      2553.93 |        nan    |      45 |\n",
      "| True       | A-star | 0.032892   |      3329.18 |        211.8  |      55 |\n",
      "| True       | BFS    | 0.0350305  |      7097.44 |        211.8  |      55 |\n",
      "| True       | DFS    | 0.00971128 |      6126.62 |       1739.73 |      55 |\n",
      "| True       | IDS    | 0.0373406  |      6920.67 |       1594.75 |      55 |\n",
      "| True       | UCS    | 0.0665987  |      7105.44 |        211.8  |      55 |\n"
     ]
    },
    {
     "name": "stderr",
     "output_type": "stream",
     "text": [
      "\n",
      "C:\\anaconda\\lib\\site-packages\\ipykernel_launcher.py:5: FutureWarning: Indexing with multiple keys (implicitly converted to a tuple of keys) will be deprecated, use a list instead.\n",
      "  \"\"\"\n"
     ]
    }
   ],
   "source": [
    "START = (2, 0) \n",
    "GOAL = (SIZE - 1, SIZE - 1)\n",
    "result_df2, good_mazes = simulate(100)\n",
    "result_agg = result_df2.groupby([\"finished\", \"algo\"])[\n",
    "    \"seconds\", \"n_explored\", \"length_path\"\n",
    "].mean()\n",
    "\n",
    "result_agg[\"count\"] = result_df2.groupby([\"finished\", \"algo\"]).size()\n",
    "result_agg = result_agg.reset_index()\n",
    "\n",
    "print(tabulate.tabulate(result_agg.values, result_agg.columns, tablefmt=\"pipe\"))"
   ]
  },
  {
   "cell_type": "code",
   "execution_count": 26,
   "metadata": {},
   "outputs": [
    {
     "data": {
      "image/png": "[encoded data removed]",
      "text/plain": [
       "<Figure size 1080x360 with 3 Axes>"
      ]
     },
     "metadata": {
      "needs_background": "light"
     },
     "output_type": "display_data"
    }
   ],
   "source": [
    "plot_graph(result_df2, which = 'time')"
   ]
  },
  {
   "cell_type": "code",
   "execution_count": 27,
   "metadata": {},
   "outputs": [
    {
     "data": {
      "image/png": "[encoded data removed]",
      "text/plain": [
       "<Figure size 1080x360 with 3 Axes>"
      ]
     },
     "metadata": {
      "needs_background": "light"
     },
     "output_type": "display_data"
    }
   ],
   "source": [
    "plot_graph(result_df2, which = 'explored_nodes')"
   ]
  },
  {
   "cell_type": "markdown",
   "metadata": {
    "id": "tZyD5cm7TUUF"
   },
   "source": [
    "### Test Case 3"
   ]
  },
  {
   "cell_type": "code",
   "execution_count": 28,
   "metadata": {
    "id": "ztOHMB3FTUtF"
   },
   "outputs": [
    {
     "name": "stderr",
     "output_type": "stream",
     "text": [
      "100%|████████████████████████████████████████████████████████████████████████████████| 100/100 [00:16<00:00,  5.95it/s]"
     ]
    },
    {
     "name": "stdout",
     "output_type": "stream",
     "text": [
      "| finished   | algo   |    seconds |   n_explored |   length_path |   count |\n",
      "|:-----------|:-------|-----------:|-------------:|--------------:|--------:|\n",
      "| False      | A-star | 0.0250042  |      2315.6  |       nan     |      35 |\n",
      "| False      | BFS    | 0.0121064  |      2315.6  |       nan     |      35 |\n",
      "| False      | DFS    | 0.00471672 |      2315.6  |       nan     |      35 |\n",
      "| False      | IDS    | 0.0165027  |      2315.6  |       nan     |      35 |\n",
      "| False      | UCS    | 0.0229881  |      2315.6  |       nan     |      35 |\n",
      "| True       | A-star | 0.0335909  |      3157.28 |       213.031 |      65 |\n",
      "| True       | BFS    | 0.0368671  |      7027.63 |       213.031 |      65 |\n",
      "| True       | DFS    | 0.00975585 |      5792.68 |      1650.63  |      65 |\n",
      "| True       | IDS    | 0.0363557  |      6920.49 |      1408.32  |      65 |\n",
      "| True       | UCS    | 0.070336   |      7037.77 |       213.031 |      65 |\n"
     ]
    },
    {
     "name": "stderr",
     "output_type": "stream",
     "text": [
      "\n",
      "C:\\anaconda\\lib\\site-packages\\ipykernel_launcher.py:5: FutureWarning: Indexing with multiple keys (implicitly converted to a tuple of keys) will be deprecated, use a list instead.\n",
      "  \"\"\"\n"
     ]
    }
   ],
   "source": [
    "START = (1, 0) \n",
    "GOAL = (SIZE - 2, SIZE - 1)\n",
    "result_df3, good_mazes = simulate(100)\n",
    "result_agg = result_df3.groupby([\"finished\", \"algo\"])[\n",
    "    \"seconds\", \"n_explored\", \"length_path\"\n",
    "].mean()\n",
    "\n",
    "result_agg[\"count\"] = result_df3.groupby([\"finished\", \"algo\"]).size()\n",
    "result_agg = result_agg.reset_index()\n",
    "\n",
    "print(tabulate.tabulate(result_agg.values, result_agg.columns, tablefmt=\"pipe\"))"
   ]
  },
  {
   "cell_type": "code",
   "execution_count": 29,
   "metadata": {},
   "outputs": [
    {
     "data": {
      "image/png": "[encoded data removed]",
      "text/plain": [
       "<Figure size 1080x360 with 3 Axes>"
      ]
     },
     "metadata": {
      "needs_background": "light"
     },
     "output_type": "display_data"
    }
   ],
   "source": [
    "plot_graph(result_df3, 'time')"
   ]
  },
  {
   "cell_type": "code",
   "execution_count": 31,
   "metadata": {},
   "outputs": [
    {
     "data": {
      "image/png": "[encoded data removed]",
      "text/plain": [
       "<Figure size 1080x360 with 3 Axes>"
      ]
     },
     "metadata": {
      "needs_background": "light"
     },
     "output_type": "display_data"
    }
   ],
   "source": [
    "plot_graph(result_df3, 'explored_nodes')"
   ]
  },
  {
   "cell_type": "markdown",
   "metadata": {
    "id": "GP_LgEreTUOs"
   },
   "source": [
    "### Test Case 4"
   ]
  },
  {
   "cell_type": "code",
   "execution_count": 32,
   "metadata": {
    "id": "8GK_f9ilTUoN"
   },
   "outputs": [
    {
     "name": "stderr",
     "output_type": "stream",
     "text": [
      "100%|████████████████████████████████████████████████████████████████████████████████| 100/100 [00:15<00:00,  6.25it/s]"
     ]
    },
    {
     "name": "stdout",
     "output_type": "stream",
     "text": [
      "| finished   | algo   |    seconds |   n_explored |   length_path |   count |\n",
      "|:-----------|:-------|-----------:|-------------:|--------------:|--------:|\n",
      "| False      | A-star | 0.0265627  |      2400.65 |       nan     |      48 |\n",
      "| False      | BFS    | 0.0127322  |      2400.65 |       nan     |      48 |\n",
      "| False      | DFS    | 0.00498295 |      2400.65 |       nan     |      48 |\n",
      "| False      | IDS    | 0.0169528  |      2400.65 |       nan     |      48 |\n",
      "| False      | UCS    | 0.0248482  |      2400.65 |       nan     |      48 |\n",
      "| True       | A-star | 0.0344403  |      3252.92 |       213.808 |      52 |\n",
      "| True       | BFS    | 0.0377572  |      7210.65 |       213.808 |      52 |\n",
      "| True       | DFS    | 0.0102639  |      6057.48 |      1693.88  |      52 |\n",
      "| True       | IDS    | 0.0381025  |      7060.5  |      1516.23  |      52 |\n",
      "| True       | UCS    | 0.0724922  |      7218.83 |       213.808 |      52 |\n"
     ]
    },
    {
     "name": "stderr",
     "output_type": "stream",
     "text": [
      "\n",
      "C:\\anaconda\\lib\\site-packages\\ipykernel_launcher.py:5: FutureWarning: Indexing with multiple keys (implicitly converted to a tuple of keys) will be deprecated, use a list instead.\n",
      "  \"\"\"\n"
     ]
    }
   ],
   "source": [
    "START = (3, 0) \n",
    "GOAL = (SIZE - 1, SIZE - 2)\n",
    "result_df4, good_mazes = simulate(100)\n",
    "result_agg = result_df4.groupby([\"finished\", \"algo\"])[\n",
    "    \"seconds\", \"n_explored\", \"length_path\"\n",
    "].mean()\n",
    "\n",
    "result_agg[\"count\"] = result_df4.groupby([\"finished\", \"algo\"]).size()\n",
    "result_agg = result_agg.reset_index()\n",
    "\n",
    "print(tabulate.tabulate(result_agg.values, result_agg.columns, tablefmt=\"pipe\"))"
   ]
  },
  {
   "cell_type": "code",
   "execution_count": 33,
   "metadata": {},
   "outputs": [
    {
     "data": {
      "image/png": "[encoded data removed]",
      "text/plain": [
       "<Figure size 1080x360 with 3 Axes>"
      ]
     },
     "metadata": {
      "needs_background": "light"
     },
     "output_type": "display_data"
    }
   ],
   "source": [
    "plot_graph(result_df4, 'time')"
   ]
  },
  {
   "cell_type": "code",
   "execution_count": 34,
   "metadata": {},
   "outputs": [
    {
     "data": {
      "image/png": "[encoded data removed]",
      "text/plain": [
       "<Figure size 1080x360 with 3 Axes>"
      ]
     },
     "metadata": {
      "needs_background": "light"
     },
     "output_type": "display_data"
    }
   ],
   "source": [
    "plot_graph(result_df4, 'explored_nodes')"
   ]
  },
  {
   "cell_type": "markdown",
   "metadata": {
    "id": "TaBC8wtRTUF8"
   },
   "source": [
    "### Test Case 5"
   ]
  },
  {
   "cell_type": "code",
   "execution_count": 35,
   "metadata": {
    "id": "fer1KlM_TWkW"
   },
   "outputs": [
    {
     "name": "stderr",
     "output_type": "stream",
     "text": [
      "100%|████████████████████████████████████████████████████████████████████████████████| 100/100 [00:19<00:00,  5.17it/s]"
     ]
    },
    {
     "name": "stdout",
     "output_type": "stream",
     "text": [
      "| finished   | algo   |    seconds |   n_explored |   length_path |   count |\n",
      "|:-----------|:-------|-----------:|-------------:|--------------:|--------:|\n",
      "| False      | A-star | 0.0446723  |      3684.04 |       nan     |      45 |\n",
      "| False      | BFS    | 0.0205652  |      3684.04 |       nan     |      45 |\n",
      "| False      | DFS    | 0.00794457 |      3684.04 |       nan     |      45 |\n",
      "| False      | IDS    | 0.0249822  |      3684.04 |       nan     |      45 |\n",
      "| False      | UCS    | 0.0390784  |      3684.04 |       nan     |      45 |\n",
      "| True       | A-star | 0.0365557  |      3233.95 |       211.255 |      55 |\n",
      "| True       | BFS    | 0.0397261  |      7082.71 |       211.255 |      55 |\n",
      "| True       | DFS    | 0.0107245  |      5876.87 |      1711.73  |      55 |\n",
      "| True       | IDS    | 0.0404129  |      6776.6  |      1569.84  |      55 |\n",
      "| True       | UCS    | 0.0765121  |      7093.27 |       211.255 |      55 |\n"
     ]
    },
    {
     "name": "stderr",
     "output_type": "stream",
     "text": [
      "\n",
      "C:\\anaconda\\lib\\site-packages\\ipykernel_launcher.py:5: FutureWarning: Indexing with multiple keys (implicitly converted to a tuple of keys) will be deprecated, use a list instead.\n",
      "  \"\"\"\n"
     ]
    }
   ],
   "source": [
    "START = (1, 3) \n",
    "GOAL = (SIZE - 1, SIZE - 3)\n",
    "result_df5, good_mazes = simulate(100)\n",
    "result_agg = result_df5.groupby([\"finished\", \"algo\"])[\n",
    "    \"seconds\", \"n_explored\", \"length_path\"\n",
    "].mean()\n",
    "\n",
    "result_agg[\"count\"] = result_df5.groupby([\"finished\", \"algo\"]).size()\n",
    "result_agg = result_agg.reset_index()\n",
    "\n",
    "print(tabulate.tabulate(result_agg.values, result_agg.columns, tablefmt=\"pipe\"))"
   ]
  },
  {
   "cell_type": "code",
   "execution_count": 36,
   "metadata": {},
   "outputs": [
    {
     "data": {
      "image/png": "[encoded data removed]",
      "text/plain": [
       "<Figure size 1080x360 with 3 Axes>"
      ]
     },
     "metadata": {
      "needs_background": "light"
     },
     "output_type": "display_data"
    }
   ],
   "source": [
    "plot_graph(result_df5, 'time')"
   ]
  },
  {
   "cell_type": "code",
   "execution_count": 37,
   "metadata": {},
   "outputs": [
    {
     "data": {
      "image/png": "[encoded data removed]",
      "text/plain": [
       "<Figure size 1080x360 with 3 Axes>"
      ]
     },
     "metadata": {
      "needs_background": "light"
     },
     "output_type": "display_data"
    }
   ],
   "source": [
    "plot_graph(result_df5, 'explored_nodes')"
   ]
  },
  {
   "cell_type": "markdown",
   "metadata": {},
   "source": [
    "## I observe from the above test cases similar pattern as followed before is being followed"
   ]
  },
  {
   "cell_type": "markdown",
   "metadata": {
    "id": "Ecuj940rVmvA"
   },
   "source": [
    "# Problem Statement 2 (40 marks)\n",
    "## So many Queens, how to manage?\n",
    "\n",
    "During a gladiatorial contests at the roman empire, a fine king invited all his queens to witness the valour of the gladiators. However, the queens were not in likings of one-another and must not see eye-to-eye. Your job as the \"Minister of Strategies\" in King's office is to create a sitting arrangement for all queens, while keeping in mind that no two queens are in the \"LINE OF SIGHT\" of one another i.e. the queens must be avoided to be in the same row or column or diagonally. \n",
    "\n",
    " The \"minister of Strategies\" had recently enrolled in the Class of Artificial Intellignece CS 512 and decided to use A* algorithm to solve the problem.\n",
    "\n",
    "\n",
    "Heuristic to be used for this problem is \" Number of attacked queens\", where if any new queen is placed in \"LINE of ATTACK\" of other queen, the Heuristic is incremented by 1, else it is unchanged. \n",
    "\n",
    "**Can you propose a better heuristic for this problem? If yes, then compare the performance of A* with your proposed and the given heuristic. [15 marks]**\n",
    "\n",
    "The G(n) function can be defined as the number of queens which are correctly placed at the given time. \n",
    "For eg:\n",
    "if the state is  \n",
    "0 0 1 0\n",
    "\n",
    "1 0 0 0\n",
    "\n",
    "1 0 0 0\n",
    "\n",
    "0 0 0 1 \n",
    "\n",
    "then only one queen is correctly placed while, three queens are in ATTACK mode.\n",
    "#### Reference image\n",
    "![8queen.png](data:image/png;base64,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)"
   ]
  },
  {
   "cell_type": "markdown",
   "metadata": {
    "id": "s827GCL0suVP"
   },
   "source": [
    "\n",
    "To solve this problem correctly. define the Heuristic function correctly, Apply A* agorithm to it and print the following information for each trial. Number of nodes explored, Optimal path cost, Total time taken for execution. [25 marks]"
   ]
  },
  {
   "cell_type": "markdown",
   "metadata": {
    "id": "3Dgf3EzdtZAl"
   },
   "source": [
    "Consider in total, 5 trials,\n",
    "\n",
    " \n",
    "\n",
    "---\n",
    "\n",
    "\n",
    "\n",
    "1.   you have 4 queens in a 4x4 seating space.\n",
    "2.   you have 5 queens in a 5x5 seating space.\n",
    "3.   you have 6 queens in a 6x6 seating space.\n",
    "4.  you have 7 queens in a 7x7 seating space.\n",
    "5.  you have 8 queens in a 8x8 seating space.\n",
    "5.  you have 9 queens in a 9x9 seating space.\n",
    "5.  you have 10 queens in a 10x10 seating space.\n",
    "\n",
    "----\n"
   ]
  },
  {
   "cell_type": "markdown",
   "metadata": {
    "id": "83JzXB1zt8cb"
   },
   "source": [
    "In the end, plot a graph with all five trials in X-axis and following metrices in Y axis,\n",
    " * The number of nodes explored \n",
    " * Optimnal path cost \n",
    " * Total time taken by A* algorithm "
   ]
  },
  {
   "cell_type": "code",
   "execution_count": 47,
   "metadata": {},
   "outputs": [],
   "source": [
    "def convert_rep(arr):\n",
    "    \"\"\"\n",
    "    Function to convert grid representation to my list co-ordinate representation\n",
    "    \"\"\"\n",
    "    n = arr.shape[0]\n",
    "    new_rep = []\n",
    "    for j in range(n):\n",
    "        for i in range(n):\n",
    "            if arr[i][j] == 1:\n",
    "                new_rep.append([i, j])\n",
    "    return new_rep"
   ]
  },
  {
   "cell_type": "code",
   "execution_count": 48,
   "metadata": {},
   "outputs": [],
   "source": [
    "def G(state):\n",
    "    n = len(state)\n",
    "    num_correct = n\n",
    "    for queen in range(n):\n",
    "        row = state[queen][0]\n",
    "        column = state[queen][1]\n",
    "        for other_queen in range(n):\n",
    "            if other_queen!=queen:\n",
    "                if(row == state[other_queen][0]):\n",
    "                    num_correct = num_correct - 1\n",
    "                    break\n",
    "                if (abs(row - state[other_queen][0]) == abs(column - state[other_queen][1])):\n",
    "                    num_correct = num_correct - 1\n",
    "                    break\n",
    "    return num_correct"
   ]
  },
  {
   "cell_type": "markdown",
   "metadata": {
    "id": "ijHLUVxavMcZ"
   },
   "source": [
    "Define heuristics"
   ]
  },
  {
   "cell_type": "code",
   "execution_count": 49,
   "metadata": {},
   "outputs": [],
   "source": [
    "def queen_heuristic(state):\n",
    "    n = len(state)\n",
    "    num_attack = 0\n",
    "    for queen in range(0, n):\n",
    "        row = state[queen][0]\n",
    "        column = state[queen][1]        \n",
    "        for other_queen in range(queen+1, n):# looping from queen + 1 as I need to \n",
    "                                             #count something like number of handshakes\n",
    "            if   (row == state[other_queen][0]):\n",
    "                num_attack = num_attack + 1\n",
    "            elif (abs(row - state[other_queen][0]) == abs(column - state[other_queen][1])):\n",
    "                num_attack = num_attack + 1\n",
    "    return num_attack"
   ]
  },
  {
   "cell_type": "code",
   "execution_count": null,
   "metadata": {
    "id": "316PU2nFKDrM"
   },
   "outputs": [],
   "source": [
    "def new_heuristic(state,goal): # defining a new heuristics "
   ]
  },
  {
   "cell_type": "markdown",
   "metadata": {
    "id": "_G7Q1rK8G_sk"
   },
   "source": [
    "Your solution using A*"
   ]
  },
  {
   "cell_type": "markdown",
   "metadata": {},
   "source": [
    "## Astar done assuming queens dont change their columns and are present in different columns from beginning"
   ]
  },
  {
   "cell_type": "code",
   "execution_count": 50,
   "metadata": {},
   "outputs": [],
   "source": [
    "import copy\n",
    "def astar_q(start, H):\n",
    "    n = len(start)\n",
    "    parent = []\n",
    "    explored_status = []\n",
    "    q = PriorityQueue()\n",
    "    q.put((G(start) + H(start), start))\n",
    "    explored_status.append(start)\n",
    "    goal = start\n",
    "    parent.append([start, None])\n",
    "    while True:\n",
    "        if q.empty():# won't occur for n>=4\n",
    "            break;\n",
    "        state_info = q.get()\n",
    "        state = state_info[1]\n",
    "#         print(state)\n",
    "        if(G(state) == n):\n",
    "            goal = state\n",
    "            break\n",
    "        fn = G(state) + H(state)\n",
    "        for queen in range(n):\n",
    "            #going up the column\n",
    "            if (state[queen][0] + 1)<n:\n",
    "                new_state = copy.deepcopy(state)\n",
    "                new_state[queen][0] = new_state[queen][0] + 1\n",
    "                if new_state not in explored_status:\n",
    "                    q.put((G(new_state) + H(new_state), new_state))\n",
    "                    parent.append([new_state, state])\n",
    "                    explored_status.append(new_state)\n",
    "            #going down the column\n",
    "            if (state[queen][0] - 1)>=0:\n",
    "                new_state = copy.deepcopy(state)\n",
    "                new_state[queen][0] = new_state[queen][0] - 1\n",
    "                if new_state not in explored_status:\n",
    "                    q.put((G(new_state) + H(new_state), new_state))\n",
    "                    parent.append([new_state, state])\n",
    "                    explored_status.append(new_state)\n",
    "    return goal, len(explored_status), parent"
   ]
  },
  {
   "cell_type": "code",
   "execution_count": 53,
   "metadata": {},
   "outputs": [
    {
     "data": {
      "text/plain": [
       "([[0, 0], [2, 1], [4, 2], [1, 3], [3, 4]], 2874)"
      ]
     },
     "execution_count": 53,
     "metadata": {},
     "output_type": "execute_result"
    }
   ],
   "source": [
    "start = [[0,0], [0,1], [0, 2], [0, 3], [0, 4]]\n",
    "astar_q(start, queen_heuristic)[0:2]"
   ]
  },
  {
   "cell_type": "code",
   "execution_count": null,
   "metadata": {
    "id": "qZGBv-FvHETp"
   },
   "outputs": [],
   "source": [
    "# Your code goes here\n"
   ]
  }
 ],
 "metadata": {
  "colab": {
   "collapsed_sections": [],
   "name": "CS512 AI Lab1 2022.ipynb",
   "provenance": []
  },
  "kernelspec": {
   "display_name": "Python 3 (ipykernel)",
   "language": "python",
   "name": "python3"
  },
  "language_info": {
   "codemirror_mode": {
    "name": "ipython",
    "version": 3
   },
   "file_extension": ".py",
   "mimetype": "text/x-python",
   "name": "python",
   "nbconvert_exporter": "python",
   "pygments_lexer": "ipython3",
   "version": "3.7.9"
  }
 },
 "nbformat": 4,
 "nbformat_minor": 1
}
